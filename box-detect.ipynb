{
 "cells": [
  {
   "cell_type": "markdown",
   "metadata": {
    "slideshow": {
     "slide_type": "slide"
    }
   },
   "source": [
    "# Probabilistic Generative Models: Learning the position of the object\n",
    "\n",
    "<br>\n",
    "### Ian Tsybulkin \n",
    "Bldbox co-founder\n",
    "<br>\n",
    "<br>\n",
    "\n",
    "Twitter: @tsybulkin\n",
    "\n",
    "https://www.linkedin.com/in/tsybulkin/\n",
    "\n",
    "https://www.facebook.com/ian.tsybulkin"
   ]
  },
  {
   "cell_type": "markdown",
   "metadata": {
    "slideshow": {
     "slide_type": "slide"
    }
   },
   "source": [
    "## Box position detection\n",
    "\n",
    "![Conveyor](conveyor.jpg \"Conveyor\")"
   ]
  },
  {
   "cell_type": "markdown",
   "metadata": {
    "slideshow": {
     "slide_type": "subslide"
    }
   },
   "source": [
    "![gen](gen-images.jpeg \"Approach\")"
   ]
  },
  {
   "cell_type": "markdown",
   "metadata": {
    "slideshow": {
     "slide_type": "slide"
    }
   },
   "source": [
    "## The problem:\n",
    "\n",
    "### Input:\n",
    "- the boxes dimensions\n",
    "- the camera shot\n",
    "- camera parameters defined by the matrix M\n",
    "\n",
    "### To find:\n",
    "- the box coordinates x, y\n",
    "- the box angle a\n",
    "- the box type\n"
   ]
  },
  {
   "cell_type": "code",
   "execution_count": 1,
   "metadata": {
    "collapsed": false,
    "slideshow": {
     "slide_type": "skip"
    }
   },
   "outputs": [],
   "source": [
    "from IPython.display import Latex\n",
    "import numpy as np\n",
    "from PIL import Image\n",
    "from PIL import ImageDraw\n",
    "# import matplotlib\n",
    "# matplotlib.use(\"Agg\")\n",
    "from matplotlib import pyplot as plt\n",
    "# import matplotlib.animation as manimation"
   ]
  },
  {
   "cell_type": "markdown",
   "metadata": {
    "slideshow": {
     "slide_type": "slide"
    }
   },
   "source": [
    "## Camera setup\n",
    "\n",
    "![Cam](cam.jpeg \"Camera setup\")"
   ]
  },
  {
   "cell_type": "code",
   "execution_count": 2,
   "metadata": {
    "collapsed": false,
    "slideshow": {
     "slide_type": "subslide"
    }
   },
   "outputs": [],
   "source": [
    "# Let us define intrinsic camera matrix and camera location\n",
    "\n",
    "K = np.array([[600., 0., 300.],\n",
    "              [0., 600., 200.],\n",
    "              [0.,   0., 1.]])\n",
    "\n",
    "cam_xyz = np.array([[0, -1., 1.5]]).T"
   ]
  },
  {
   "cell_type": "code",
   "execution_count": 3,
   "metadata": {
    "collapsed": true,
    "slideshow": {
     "slide_type": "fragment"
    }
   },
   "outputs": [],
   "source": [
    "# let us find extrinsic camera matrix\n",
    "\n",
    "def get_zxz(a, b, g):\n",
    "    \"\"\"returns rotation matrix according to ZXZ euler schema\n",
    "    \"\"\"\n",
    "    c1, s1 = np.cos(a), np.sin(a)\n",
    "    c2, s2 = np.cos(b), np.sin(b)\n",
    "    c3, s3 = np.cos(g), np.sin(g)\n",
    "\n",
    "    return np.array([\n",
    "        [c1*c3-c2*s1*s3,-c1*s3-c2*c3*s1, s1*s2],\n",
    "        [c3*s1+c1*c2*s3, c1*c2*c3-s1*s3,-c1*s2],\n",
    "        [s2*s3,          c3*s2,          c2]\n",
    "        ])"
   ]
  },
  {
   "cell_type": "code",
   "execution_count": 4,
   "metadata": {
    "collapsed": false,
    "slideshow": {
     "slide_type": "fragment"
    }
   },
   "outputs": [],
   "source": [
    "R = get_zxz(0, -np.pi/2 -np.pi/3, 0)\n",
    "T = -R.T.dot(cam_xyz)\n",
    "RT = np.hstack([ R.transpose(), T])\n",
    "RT\n",
    "M = K.dot(RT)"
   ]
  },
  {
   "cell_type": "markdown",
   "metadata": {
    "slideshow": {
     "slide_type": "subslide"
    }
   },
   "source": [
    "## 3D / 2D Transformation Matrix\n",
    "\n",
    "\n",
    "\n",
    "<br>\n",
    "<br>\n",
    "\n",
    "\\begin{bmatrix}\n",
    "    600 & 150 & -260 & 540 \\\\\n",
    "    0   &-420 & -473 & 290 \\\\\n",
    "    0   & 0.5 & -0.8 & 1.7\n",
    "\\end{bmatrix}\n",
    "\n"
   ]
  },
  {
   "cell_type": "markdown",
   "metadata": {
    "slideshow": {
     "slide_type": "fragment"
    }
   },
   "source": [
    "$$\n",
    "uv = M \\cdot XYZ\n",
    "$$"
   ]
  },
  {
   "cell_type": "markdown",
   "metadata": {
    "slideshow": {
     "slide_type": "skip"
    }
   },
   "source": [
    "$$\n",
    "uv =\n",
    "\\begin{bmatrix}\n",
    "    u \\\\ v \\\\ w \n",
    "\\end{bmatrix}\n",
    "$$\n",
    "\n",
    "$$\n",
    "XYZ =\n",
    "\\begin{bmatrix}\n",
    "    X \\\\ Y \\\\ Z \\\\ 1 \n",
    "\\end{bmatrix}\n",
    "$$"
   ]
  },
  {
   "cell_type": "code",
   "execution_count": 5,
   "metadata": {
    "collapsed": false,
    "slideshow": {
     "slide_type": "skip"
    }
   },
   "outputs": [
    {
     "data": {
      "text/plain": [
       "(300.0, 161.30418691466295)"
      ]
     },
     "execution_count": 5,
     "metadata": {},
     "output_type": "execute_result"
    }
   ],
   "source": [
    "# Let us check where comes global origin in the image\n",
    "\n",
    "X,Y,Z = (0, 0, 0)\n",
    "u,v,w = M.dot(np.array([X, Y, Z, 1]))\n",
    "u/w, v/w"
   ]
  },
  {
   "cell_type": "code",
   "execution_count": 6,
   "metadata": {
    "collapsed": true,
    "slideshow": {
     "slide_type": "skip"
    }
   },
   "outputs": [],
   "source": [
    "def rotate(p, angle):\n",
    "    c, s = np.cos(angle), np.sin(angle)\n",
    "    return np.array([ [c,-s, 0],\n",
    "                      [s, c, 0],\n",
    "                      [0, 0, 1]]).dot(p)"
   ]
  },
  {
   "cell_type": "markdown",
   "metadata": {
    "slideshow": {
     "slide_type": "slide"
    }
   },
   "source": [
    "## Box model\n",
    "\n",
    "Width x Depth x Height"
   ]
  },
  {
   "cell_type": "code",
   "execution_count": 7,
   "metadata": {
    "collapsed": true,
    "slideshow": {
     "slide_type": "-"
    }
   },
   "outputs": [],
   "source": [
    "# dimensions 60cm x 40cm x 30cm\n",
    "\n",
    "Dims = [np.array([0.6, 0.4, 0.3]), \n",
    "        np.array([0.4, 0.4, 0.35]), \n",
    "        np.array([0.4, 0.3, 0.2])]"
   ]
  },
  {
   "cell_type": "code",
   "execution_count": 8,
   "metadata": {
    "collapsed": true,
    "slideshow": {
     "slide_type": "skip"
    }
   },
   "outputs": [],
   "source": [
    "def poly_list(x, y, a, ix):\n",
    "    dx, dy, z = Dims[int(ix)] / 2\n",
    "    top = [ np.array([-dx,-dy, 2*z]),\n",
    "            np.array([ dx,-dy, 2*z]),\n",
    "            np.array([ dx, dy, 2*z]),\n",
    "            np.array([-dx, dy, 2*z]) ]\n",
    "    top = [ rotate(p, a) for p in top ]\n",
    "    t = np.array([x, y, 0])\n",
    "    top = [p + t for p in top]\n",
    "    Ls = [top]\n",
    "    for i in range(4):\n",
    "        Ls.append([top[i], top[i-1], top[i-1]-np.array([0,0,2*z]), top[i]-np.array([0,0,2*z])])\n",
    "    return Ls\n"
   ]
  },
  {
   "cell_type": "code",
   "execution_count": 9,
   "metadata": {
    "collapsed": false,
    "slideshow": {
     "slide_type": "skip"
    }
   },
   "outputs": [],
   "source": [
    "# generating image\n",
    "def gen_img(dx, dy, a, ix):\n",
    "    polygons = [[ M.dot(np.array([x,y,z,1])) for x,y,z in poly] for poly in poly_list(dx, dy, a, ix)]\n",
    "    pix = [[(u/w, v/w) for u,v,w in poly] for poly in polygons]\n",
    "    \n",
    "    im = Image.new('L', (600,400), 0)\n",
    "    draw = ImageDraw.Draw(im)\n",
    "    [draw.polygon(shape,fill=255) for shape in pix]\n",
    "    \n",
    "    return im\n",
    "    "
   ]
  },
  {
   "cell_type": "markdown",
   "metadata": {
    "slideshow": {
     "slide_type": "slide"
    }
   },
   "source": [
    "## 'Real' cam shot\n",
    "\n",
    "Let us define hidden parameters of our box - its type, position, and its angle:"
   ]
  },
  {
   "cell_type": "code",
   "execution_count": 10,
   "metadata": {
    "collapsed": false,
    "slideshow": {
     "slide_type": "fragment"
    }
   },
   "outputs": [
    {
     "data": {
      "image/png": "[encoded data removed]",
      "text/plain": [
       "<PIL.Image.Image image mode=L size=600x400 at 0x117346610>"
      ]
     },
     "execution_count": 10,
     "metadata": {},
     "output_type": "execute_result"
    }
   ],
   "source": [
    "BoxType = 2\n",
    "Angle = 0.4\n",
    "X = 0.1\n",
    "Y = -0.1\n",
    "cam_shot = gen_img(X,Y,Angle,BoxType)\n",
    "cam_shot"
   ]
  },
  {
   "cell_type": "markdown",
   "metadata": {
    "slideshow": {
     "slide_type": "slide"
    }
   },
   "source": [
    "\n",
    "## Generative algorithm\n",
    "\n",
    "\n",
    "![State](state.jpeg \"State\")"
   ]
  },
  {
   "cell_type": "markdown",
   "metadata": {
    "slideshow": {
     "slide_type": "slide"
    }
   },
   "source": [
    "## Loss function\n"
   ]
  },
  {
   "cell_type": "code",
   "execution_count": 11,
   "metadata": {
    "collapsed": false,
    "slideshow": {
     "slide_type": "skip"
    }
   },
   "outputs": [],
   "source": [
    "CAM_ARR = (np.array(cam_shot) > 100)\n",
    "WEIGHT = CAM_ARR.sum()\n",
    "\n",
    "def loss(gen_im):\n",
    "    return (np.logical_xor(CAM_ARR, (np.array(gen_im, dtype='uint8') > 100)).astype('int')).sum()"
   ]
  },
  {
   "cell_type": "code",
   "execution_count": 12,
   "metadata": {
    "collapsed": false,
    "slideshow": {
     "slide_type": "fragment"
    }
   },
   "outputs": [
    {
     "name": "stdout",
     "output_type": "stream",
     "text": [
      "19845 pixels do not match\n"
     ]
    },
    {
     "data": {
      "image/png": "[encoded data removed]",
      "text/plain": [
       "<Figure size 432x288 with 1 Axes>"
      ]
     },
     "metadata": {},
     "output_type": "display_data"
    }
   ],
   "source": [
    "init = np.array([np.random.normal(scale=0.1), \n",
    "                 np.random.normal(scale=0.1), \n",
    "                 np.random.uniform(-np.pi/2, np.pi/2),\n",
    "                 np.random.choice(len(Dims))])\n",
    "val = loss(gen_img(*init))\n",
    "print \"%i pixels do not match\" % val\n",
    "plt.figure(figsize=(6,4))\n",
    "plt.imshow(np.logical_xor(CAM_ARR, (np.array(gen_img(*init),dtype='uint8')>100)).astype('int'))\n",
    "plt.show()"
   ]
  },
  {
   "cell_type": "markdown",
   "metadata": {
    "slideshow": {
     "slide_type": "slide"
    }
   },
   "source": [
    "## Transition probabilities\n",
    "<br>\n",
    "\n",
    "$S_i = \\{x_i, y_i, a_i, t_i\\}, \\space  V_i = Loss(S_i) $\n",
    "\n",
    "$S_{i+1} = \\{x_{i+1}, y_{i+1}, a_{i+1}, t_{i+1}\\}, \\space  V_{i+1} = Loss(S_{i+1}) $\n",
    "\n",
    "<br>\n",
    "\n",
    "$p = e^{ -50 \\cdot \\frac{V_{i+1} - V_i}{V_i}}  $\n",
    "\n",
    "<br>\n",
    "\n",
    "It means that if the the new value of the loss function is 5% higher, the probability to come to the new state will be only 8%. However, if the new value is merely 3% higher than the old one, the probability of the transition is 22%.\n",
    "\n"
   ]
  },
  {
   "cell_type": "markdown",
   "metadata": {
    "slideshow": {
     "slide_type": "subslide"
    }
   },
   "source": [
    "![Markovian process](hmm.jpeg \"Generative process\")"
   ]
  },
  {
   "cell_type": "code",
   "execution_count": 13,
   "metadata": {
    "collapsed": false,
    "slideshow": {
     "slide_type": "skip"
    }
   },
   "outputs": [],
   "source": [
    "def accepted(New, Old):\n",
    "    v = -(New - Old)/Old * 30\n",
    "    if v >= 0: return True\n",
    "    return np.exp(v) > np.random.random()"
   ]
  },
  {
   "cell_type": "code",
   "execution_count": 14,
   "metadata": {
    "collapsed": false,
    "slideshow": {
     "slide_type": "skip"
    }
   },
   "outputs": [
    {
     "name": "stdout",
     "output_type": "stream",
     "text": [
      "1000 iteration done\n"
     ]
    }
   ],
   "source": [
    "curr = init.copy()\n",
    "curr_val = val.copy()\n",
    "history = [(val, curr)]\n",
    "rejected = 0\n",
    "i = 0\n",
    "while curr_val > 50 and i < 1000:\n",
    "    i += 1\n",
    "    dx, dy, da = np.random.normal(scale=(0.005, 0.005, 0.1), size=3)\n",
    "    dix = np.random.choice([-1,0,1], p=[0.1, 0.8, 0.1])\n",
    "    new = curr + np.array([dx, dy, da, dix])\n",
    "    if new[3] >= len(Dims): new[3] = len(Dims) - 1\n",
    "    elif new[3] < 0: new[3] = 0\n",
    "        \n",
    "    if abs(new[0]) > 0.3 or abs(new[1]) > 0.2 or rejected > 20:\n",
    "        curr = np.array([np.random.normal(scale=0.1), \n",
    "                         np.random.normal(scale=0.1), \n",
    "                         np.random.uniform(-np.pi/2, np.pi/2),\n",
    "                         np.random.choice(len(Dims))\n",
    "                        ])\n",
    "        curr_val = loss(gen_img(*curr))\n",
    "        rejected = 0\n",
    "        continue\n",
    "    new_val = loss(gen_img(*new))\n",
    "    \n",
    "    if accepted(new_val, curr_val):\n",
    "        curr_val = new_val\n",
    "        curr = new.copy()\n",
    "        history.append((curr_val, curr.copy()))\n",
    "        rejected = 0\n",
    "    else:\n",
    "        rejected += 1\n",
    "print \"%i iteration done\" % i, "
   ]
  },
  {
   "cell_type": "code",
   "execution_count": 15,
   "metadata": {
    "collapsed": false,
    "slideshow": {
     "slide_type": "slide"
    }
   },
   "outputs": [
    {
     "name": "stdout",
     "output_type": "stream",
     "text": [
      "Image match: 99.2%\n"
     ]
    }
   ],
   "source": [
    "v, best = min(history, key=lambda x: x[0])\n",
    "print \"Image match: %.1f%%\" % ((100*(1-float(v)/WEIGHT)))"
   ]
  },
  {
   "cell_type": "code",
   "execution_count": 16,
   "metadata": {
    "collapsed": false,
    "slideshow": {
     "slide_type": "skip"
    }
   },
   "outputs": [
    {
     "data": {
      "text/plain": [
       "array([ 0.0987453 , -0.10063054,  0.40347114,  2.        ])"
      ]
     },
     "execution_count": 16,
     "metadata": {},
     "output_type": "execute_result"
    }
   ],
   "source": [
    "best"
   ]
  },
  {
   "cell_type": "markdown",
   "metadata": {
    "slideshow": {
     "slide_type": "subslide"
    }
   },
   "source": [
    "## Loss decrease through iterations"
   ]
  },
  {
   "cell_type": "code",
   "execution_count": 17,
   "metadata": {
    "collapsed": false,
    "slideshow": {
     "slide_type": "fragment"
    }
   },
   "outputs": [
    {
     "data": {
      "image/png": "[encoded data removed]",
      "text/plain": [
       "<Figure size 576x432 with 1 Axes>"
      ]
     },
     "metadata": {},
     "output_type": "display_data"
    }
   ],
   "source": [
    "vals,_ = zip(*history)\n",
    "plt.figure(figsize=(8,6))\n",
    "plt.plot(vals)\n",
    "plt.plot([0,len(history)+2],[0,0], '--k')\n",
    "plt.show()"
   ]
  },
  {
   "cell_type": "code",
   "execution_count": 18,
   "metadata": {
    "collapsed": true,
    "slideshow": {
     "slide_type": "skip"
    }
   },
   "outputs": [],
   "source": [
    "plt.figure(figsize=(12,4))\n",
    "ax1 = plt.subplot(1,3,1)\n",
    "plt.imshow(gen_img(*best))\n",
    "ax1.title.set_text(\"Learned\")\n",
    "\n",
    "ax2 = plt.subplot(1,3,2)\n",
    "plt.imshow(cam_shot)\n",
    "ax2.title.set_text(\"Original\")\n",
    "\n",
    "ax3 = plt.subplot(1,3,3)\n",
    "plt.imshow((CAM_ARR - np.array(gen_img(*best))).astype('int8'))\n",
    "plt.imshow(np.logical_xor(CAM_ARR, (np.array(gen_img(*best),\n",
    "                        dtype='uint8')>100)).astype('float'))\n",
    "ax3.title.set_text(\"Error\")"
   ]
  },
  {
   "cell_type": "code",
   "execution_count": 19,
   "metadata": {
    "collapsed": false,
    "slideshow": {
     "slide_type": "slide"
    }
   },
   "outputs": [
    {
     "data": {
      "image/png": "[encoded data removed]",
      "text/plain": [
       "<Figure size 864x288 with 3 Axes>"
      ]
     },
     "metadata": {},
     "output_type": "display_data"
    },
    {
     "name": "stdout",
     "output_type": "stream",
     "text": [
      "\n",
      "XY error:   -1 x 0 mm\n",
      "Angle error: 0.2 degrees\n",
      "Box type:    correct\n"
     ]
    }
   ],
   "source": [
    "\n",
    "plt.show()\n",
    "\n",
    "error = best - np.array([X,Y,Angle,BoxType])\n",
    "print \"\\nXY error:   %i x %i mm\" % tuple(error[:2]*1000)\n",
    "print \"Angle error: %.1f degrees\" % np.degrees(error[2])\n",
    "print \"Box type:    %s\" % (\"correct\" if error[3]==0 else \"incorrect\") "
   ]
  },
  {
   "cell_type": "code",
   "execution_count": null,
   "metadata": {
    "collapsed": true
   },
   "outputs": [],
   "source": []
  }
 ],
 "metadata": {
  "anaconda-cloud": {},
  "celltoolbar": "Raw Cell Format",
  "kernelspec": {
   "display_name": "Python [default]",
   "language": "python",
   "name": "python2"
  },
  "language_info": {
   "codemirror_mode": {
    "name": "ipython",
    "version": 2
   },
   "file_extension": ".py",
   "mimetype": "text/x-python",
   "name": "python",
   "nbconvert_exporter": "python",
   "pygments_lexer": "ipython2",
   "version": "2.7.15"
  },
  "nbpresent": {
   "slides": {
    "0f333a11-8f2c-4524-9346-f2a8814d97a7": {
     "id": "0f333a11-8f2c-4524-9346-f2a8814d97a7",
     "prev": "fb5d8136-7b87-45fc-bcbd-3f1ce53d7123",
     "regions": {
      "1480e171-6f40-42b1-982f-b85682987bff": {
       "attrs": {
        "height": 0.8,
        "width": 0.8,
        "x": 0.1,
        "y": 0.1
       },
       "content": {
        "cell": "d7e69a08-31e4-418a-aebd-2a0fe3deb354",
        "part": "whole"
       },
       "id": "1480e171-6f40-42b1-982f-b85682987bff"
      }
     }
    },
    "15ff5f7e-ea8c-4abb-a3ab-571451b4846a": {
     "id": "15ff5f7e-ea8c-4abb-a3ab-571451b4846a",
     "prev": "6b66e20f-98a3-4f22-895c-765662d44ef4",
     "regions": {
      "44604c87-b4fd-4cd7-aa4f-5abad2485c6f": {
       "attrs": {
        "height": 0.8,
        "width": 0.8,
        "x": 0.1,
        "y": 0.1
       },
       "content": {
        "cell": "3620a848-0dd8-4a29-abf4-eeff41659fed",
        "part": "whole"
       },
       "id": "44604c87-b4fd-4cd7-aa4f-5abad2485c6f"
      }
     }
    },
    "1ba95adf-68eb-4a56-b661-3114f04964f8": {
     "id": "1ba95adf-68eb-4a56-b661-3114f04964f8",
     "prev": "15ff5f7e-ea8c-4abb-a3ab-571451b4846a",
     "regions": {
      "dd992714-063a-4d0b-a894-bd8be07c2d68": {
       "attrs": {
        "height": 0.8,
        "width": 0.8,
        "x": 0.1,
        "y": 0.1
       },
       "content": {
        "cell": "c036a226-e592-4b7d-b469-191a62576815",
        "part": "whole"
       },
       "id": "dd992714-063a-4d0b-a894-bd8be07c2d68"
      }
     }
    },
    "1c948e30-2904-48c2-bd8a-3b359fe018a4": {
     "id": "1c948e30-2904-48c2-bd8a-3b359fe018a4",
     "prev": "8991abee-9179-467b-81c0-9fe2b1cb8d36",
     "regions": {
      "15b62cad-c78d-402e-9034-d64764877e0b": {
       "attrs": {
        "height": 0.8,
        "width": 0.8,
        "x": 0.1,
        "y": 0.1
       },
       "content": {
        "cell": "4120c525-1103-4131-b4fe-9b49d30c812a",
        "part": "whole"
       },
       "id": "15b62cad-c78d-402e-9034-d64764877e0b"
      }
     }
    },
    "1e73e393-f318-485c-bd98-a6927532be4f": {
     "id": "1e73e393-f318-485c-bd98-a6927532be4f",
     "prev": "cab473db-3ae6-438c-9b94-b648a8782567",
     "regions": {
      "1c69e25c-beec-4ee0-ae91-8be49fec7dc0": {
       "attrs": {
        "height": 0.8,
        "width": 0.8,
        "x": 0.1,
        "y": 0.1
       },
       "content": {
        "cell": "5230acb3-a72a-448b-ac63-303c5af2829a",
        "part": "whole"
       },
       "id": "1c69e25c-beec-4ee0-ae91-8be49fec7dc0"
      }
     }
    },
    "22d7160c-9792-4432-8be7-1867e0b525b8": {
     "id": "22d7160c-9792-4432-8be7-1867e0b525b8",
     "prev": "1ba95adf-68eb-4a56-b661-3114f04964f8",
     "regions": {
      "48eaa86c-41e2-4484-b4ae-c9c044de3e5e": {
       "attrs": {
        "height": 0.8,
        "width": 0.8,
        "x": 0.1,
        "y": 0.1
       },
       "content": {
        "cell": "dc81de79-f8d7-4375-9479-323296a7397f",
        "part": "whole"
       },
       "id": "48eaa86c-41e2-4484-b4ae-c9c044de3e5e"
      }
     }
    },
    "45030a60-5843-4513-9844-3abd7e9c0c04": {
     "id": "45030a60-5843-4513-9844-3abd7e9c0c04",
     "prev": "fb81cf83-c00c-41b2-ade2-f0c19dac281e",
     "regions": {
      "6ee2fd2e-2dff-44fb-aebc-1234e2c7a501": {
       "attrs": {
        "height": 0.8,
        "width": 0.8,
        "x": 0.1,
        "y": 0.1
       },
       "content": {
        "cell": "73dd315d-1717-40d4-876d-5077c2a499a2",
        "part": "whole"
       },
       "id": "6ee2fd2e-2dff-44fb-aebc-1234e2c7a501"
      }
     }
    },
    "4dab50c1-be9b-4dc8-8771-dcd54cc6596c": {
     "id": "4dab50c1-be9b-4dc8-8771-dcd54cc6596c",
     "prev": "764279a7-22d0-4920-960f-f9b0f523991e",
     "regions": {
      "161054ac-1f18-489f-82c7-114721d660e5": {
       "attrs": {
        "height": 0.8,
        "width": 0.8,
        "x": 0.1,
        "y": 0.1
       },
       "content": {
        "cell": "1f1691c6-f41e-4493-a509-fe2cb6505a24",
        "part": "whole"
       },
       "id": "161054ac-1f18-489f-82c7-114721d660e5"
      }
     }
    },
    "55e5b642-0263-438c-bf0f-34b2c7aeaec5": {
     "id": "55e5b642-0263-438c-bf0f-34b2c7aeaec5",
     "prev": "ff5aa1cd-7fc0-443a-ab98-69275fee016a",
     "regions": {
      "243cd673-9b7f-4266-a2d9-18e62a2f14e4": {
       "attrs": {
        "height": 0.8,
        "width": 0.8,
        "x": 0.1,
        "y": 0.1
       },
       "content": {
        "cell": "31c08276-426f-478e-9cad-1b89082faa13",
        "part": "whole"
       },
       "id": "243cd673-9b7f-4266-a2d9-18e62a2f14e4"
      }
     }
    },
    "5ad8ba09-8914-4d93-8dba-b91faa12f208": {
     "id": "5ad8ba09-8914-4d93-8dba-b91faa12f208",
     "prev": "d85f8b2e-3a28-4efa-8927-dd85a5ef9ce9",
     "regions": {
      "323e6279-7c0a-495a-8540-e21b26e3aef5": {
       "attrs": {
        "height": 0.8,
        "width": 0.8,
        "x": 0.1,
        "y": 0.1
       },
       "content": {
        "cell": "6b371e77-703e-4682-9f77-39d7d87bdbac",
        "part": "whole"
       },
       "id": "323e6279-7c0a-495a-8540-e21b26e3aef5"
      }
     }
    },
    "5e38c304-93d2-4a29-aac9-ce186a8ab6da": {
     "id": "5e38c304-93d2-4a29-aac9-ce186a8ab6da",
     "prev": "dfec718c-a8e2-4338-828a-f808156943ad",
     "regions": {
      "c24ce94a-9e12-4d05-98f5-da3a671ca542": {
       "attrs": {
        "height": 0.8,
        "width": 0.8,
        "x": 0.1,
        "y": 0.1
       },
       "content": {
        "cell": "26f9e7dc-cb23-471b-b10f-79ab35481547",
        "part": "whole"
       },
       "id": "c24ce94a-9e12-4d05-98f5-da3a671ca542"
      }
     }
    },
    "66e94e96-cad0-4ba7-92a1-684e31884c1e": {
     "id": "66e94e96-cad0-4ba7-92a1-684e31884c1e",
     "prev": "22d7160c-9792-4432-8be7-1867e0b525b8",
     "regions": {
      "5db530e5-8419-4789-b04d-c96000e85292": {
       "attrs": {
        "height": 0.8,
        "width": 0.8,
        "x": 0.1,
        "y": 0.1
       },
       "content": {
        "cell": "14ee36c7-9b07-4c10-90b6-5674361d267c",
        "part": "whole"
       },
       "id": "5db530e5-8419-4789-b04d-c96000e85292"
      }
     }
    },
    "6b66e20f-98a3-4f22-895c-765662d44ef4": {
     "id": "6b66e20f-98a3-4f22-895c-765662d44ef4",
     "prev": "9166d8c8-a108-454c-9e65-c1f1e102e9cb",
     "regions": {
      "2bb4b3ba-14c6-46a3-b224-59d82da1a733": {
       "attrs": {
        "height": 0.8,
        "width": 0.8,
        "x": 0.1,
        "y": 0.1
       },
       "content": {
        "cell": "af4c3d56-6a3c-4b53-8c21-240dced19b74",
        "part": "whole"
       },
       "id": "2bb4b3ba-14c6-46a3-b224-59d82da1a733"
      }
     }
    },
    "764279a7-22d0-4920-960f-f9b0f523991e": {
     "id": "764279a7-22d0-4920-960f-f9b0f523991e",
     "prev": "5e38c304-93d2-4a29-aac9-ce186a8ab6da",
     "regions": {
      "0d59a6c6-53c8-4077-a4e5-af2f376b4ace": {
       "attrs": {
        "height": 0.8,
        "width": 0.8,
        "x": 0.1,
        "y": 0.1
       },
       "content": {
        "cell": "b3a8ac0c-036d-4a85-b176-49a5d9e321b8",
        "part": "whole"
       },
       "id": "0d59a6c6-53c8-4077-a4e5-af2f376b4ace"
      }
     }
    },
    "80fbc2b5-1a11-4dfd-ae57-9095aab75cb5": {
     "id": "80fbc2b5-1a11-4dfd-ae57-9095aab75cb5",
     "prev": "817a7579-8f07-440f-b798-037dedb8b73a",
     "regions": {
      "022bfdf5-9359-4550-aa93-91fbd33d9a9e": {
       "attrs": {
        "height": 0.8,
        "width": 0.8,
        "x": 0.1,
        "y": 0.1
       },
       "content": {
        "cell": "52642799-e64c-4cd5-9325-4cd34505d342",
        "part": "whole"
       },
       "id": "022bfdf5-9359-4550-aa93-91fbd33d9a9e"
      }
     }
    },
    "817a7579-8f07-440f-b798-037dedb8b73a": {
     "id": "817a7579-8f07-440f-b798-037dedb8b73a",
     "prev": "c65f1c97-06a4-45b1-ac1c-86cfa5b4c215",
     "regions": {
      "6e6c231a-1944-41da-8e3f-6b572a4bf153": {
       "attrs": {
        "height": 0.8,
        "width": 0.8,
        "x": 0.1,
        "y": 0.1
       },
       "content": {
        "cell": "fdb6c80a-d2e6-4275-99ca-fea473a8c380",
        "part": "whole"
       },
       "id": "6e6c231a-1944-41da-8e3f-6b572a4bf153"
      }
     }
    },
    "8991abee-9179-467b-81c0-9fe2b1cb8d36": {
     "id": "8991abee-9179-467b-81c0-9fe2b1cb8d36",
     "prev": "cf8f02e8-e176-4238-96bb-ef6737842d22",
     "regions": {
      "83714221-88af-4096-a6e5-af6274df60b7": {
       "attrs": {
        "height": 0.8,
        "width": 0.8,
        "x": 0.1,
        "y": 0.1
       },
       "content": {
        "cell": "eade5137-b1c5-45ce-afaa-60796d5a7417",
        "part": "whole"
       },
       "id": "83714221-88af-4096-a6e5-af6274df60b7"
      }
     }
    },
    "9166d8c8-a108-454c-9e65-c1f1e102e9cb": {
     "id": "9166d8c8-a108-454c-9e65-c1f1e102e9cb",
     "prev": "55e5b642-0263-438c-bf0f-34b2c7aeaec5",
     "regions": {
      "69b58c12-02b5-47aa-9640-ea681981c978": {
       "attrs": {
        "height": 0.8,
        "width": 0.8,
        "x": 0.1,
        "y": 0.1
       },
       "content": {
        "cell": "66183bb8-fa4d-4989-a235-0d93957a864a",
        "part": "whole"
       },
       "id": "69b58c12-02b5-47aa-9640-ea681981c978"
      }
     }
    },
    "9d22d999-c8e2-4747-9f9c-798e9711b94d": {
     "id": "9d22d999-c8e2-4747-9f9c-798e9711b94d",
     "prev": "1e73e393-f318-485c-bd98-a6927532be4f",
     "regions": {
      "ff65160b-e552-42bb-8d44-1c425dce32cd": {
       "attrs": {
        "height": 0.8,
        "width": 0.8,
        "x": 0.1,
        "y": 0.1
       },
       "content": {
        "cell": "b5a71315-19c6-48c3-9c33-36b1ddb8d6c0",
        "part": "whole"
       },
       "id": "ff65160b-e552-42bb-8d44-1c425dce32cd"
      }
     }
    },
    "a131321a-5435-4cd2-bbc0-6f20a8ce03da": {
     "id": "a131321a-5435-4cd2-bbc0-6f20a8ce03da",
     "prev": "4dab50c1-be9b-4dc8-8771-dcd54cc6596c",
     "regions": {
      "2bdaf8ad-4fde-4809-8d5f-31a9988793b5": {
       "attrs": {
        "height": 0.8,
        "width": 0.8,
        "x": 0.1,
        "y": 0.1
       },
       "content": {
        "cell": "f210649c-0e06-4854-b996-0fdaacb7fb2c",
        "part": "whole"
       },
       "id": "2bdaf8ad-4fde-4809-8d5f-31a9988793b5"
      }
     }
    },
    "c65f1c97-06a4-45b1-ac1c-86cfa5b4c215": {
     "id": "c65f1c97-06a4-45b1-ac1c-86cfa5b4c215",
     "prev": "d297f81f-64d6-4cca-99ea-8537beb2c040",
     "regions": {
      "7cfad1e0-269c-4c7d-8947-7b16fb0a5bba": {
       "attrs": {
        "height": 0.8,
        "width": 0.8,
        "x": 0.1,
        "y": 0.1
       },
       "content": {
        "cell": "5a14694a-ee2b-447c-8087-7e433e468736",
        "part": "whole"
       },
       "id": "7cfad1e0-269c-4c7d-8947-7b16fb0a5bba"
      }
     }
    },
    "cab473db-3ae6-438c-9b94-b648a8782567": {
     "id": "cab473db-3ae6-438c-9b94-b648a8782567",
     "prev": "80fbc2b5-1a11-4dfd-ae57-9095aab75cb5",
     "regions": {
      "da4bc2b3-fea8-4b8e-b642-29ab180e91b7": {
       "attrs": {
        "height": 0.8,
        "width": 0.8,
        "x": 0.1,
        "y": 0.1
       },
       "content": {
        "cell": "de459cb1-c84f-44ba-90ba-3054483d388d",
        "part": "whole"
       },
       "id": "da4bc2b3-fea8-4b8e-b642-29ab180e91b7"
      }
     }
    },
    "cf8f02e8-e176-4238-96bb-ef6737842d22": {
     "id": "cf8f02e8-e176-4238-96bb-ef6737842d22",
     "prev": "a131321a-5435-4cd2-bbc0-6f20a8ce03da",
     "regions": {
      "675eead7-1b68-48c1-9d94-e303f68dd7e7": {
       "attrs": {
        "height": 0.8,
        "width": 0.8,
        "x": 0.1,
        "y": 0.1
       },
       "content": {
        "cell": "2743408f-1237-4d7d-87e1-2211c609decc",
        "part": "whole"
       },
       "id": "675eead7-1b68-48c1-9d94-e303f68dd7e7"
      }
     }
    },
    "d297f81f-64d6-4cca-99ea-8537beb2c040": {
     "id": "d297f81f-64d6-4cca-99ea-8537beb2c040",
     "prev": "f9340ec7-a9c6-4cfd-a149-fa25627cb6d5",
     "regions": {
      "54689946-62ee-4ca2-b92d-82f21e0ffb4a": {
       "attrs": {
        "height": 0.8,
        "width": 0.8,
        "x": 0.1,
        "y": 0.1
       },
       "content": {
        "cell": "1d6a0cd5-9c4b-4604-aa20-5b4944570103",
        "part": "whole"
       },
       "id": "54689946-62ee-4ca2-b92d-82f21e0ffb4a"
      }
     }
    },
    "d85f8b2e-3a28-4efa-8927-dd85a5ef9ce9": {
     "id": "d85f8b2e-3a28-4efa-8927-dd85a5ef9ce9",
     "prev": "1c948e30-2904-48c2-bd8a-3b359fe018a4",
     "regions": {
      "d23720c1-0425-4187-9803-583487f32dc2": {
       "attrs": {
        "height": 0.8,
        "width": 0.8,
        "x": 0.1,
        "y": 0.1
       },
       "content": {
        "cell": "e315353b-ca4c-4235-922e-04c3714def4a",
        "part": "whole"
       },
       "id": "d23720c1-0425-4187-9803-583487f32dc2"
      }
     }
    },
    "dfec718c-a8e2-4338-828a-f808156943ad": {
     "id": "dfec718c-a8e2-4338-828a-f808156943ad",
     "prev": "66e94e96-cad0-4ba7-92a1-684e31884c1e",
     "regions": {
      "d9643681-5ea8-486a-8d6a-65a31bdbd150": {
       "attrs": {
        "height": 0.8,
        "width": 0.8,
        "x": 0.1,
        "y": 0.1
       },
       "content": {
        "cell": "78939193-e2b8-4126-a2ec-8820da5600a5",
        "part": "whole"
       },
       "id": "d9643681-5ea8-486a-8d6a-65a31bdbd150"
      }
     }
    },
    "f7ff7a5a-73ce-495c-a145-e562add29a83": {
     "id": "f7ff7a5a-73ce-495c-a145-e562add29a83",
     "prev": null,
     "regions": {
      "88141834-0734-4a86-b358-0643810a3b01": {
       "attrs": {
        "height": 0.8,
        "width": 0.8,
        "x": 0.1,
        "y": 0.1
       },
       "content": {
        "cell": "a5707101-3779-4eb0-8e7d-8287eff8b0a1",
        "part": "whole"
       },
       "id": "88141834-0734-4a86-b358-0643810a3b01"
      }
     }
    },
    "f9340ec7-a9c6-4cfd-a149-fa25627cb6d5": {
     "id": "f9340ec7-a9c6-4cfd-a149-fa25627cb6d5",
     "prev": "5ad8ba09-8914-4d93-8dba-b91faa12f208",
     "regions": {
      "8abe3173-6fac-4a91-8a6f-16b33491e1e0": {
       "attrs": {
        "height": 0.8,
        "width": 0.8,
        "x": 0.1,
        "y": 0.1
       },
       "content": {
        "cell": "de74e8ba-e430-4080-afaf-76ad7cc28c97",
        "part": "whole"
       },
       "id": "8abe3173-6fac-4a91-8a6f-16b33491e1e0"
      }
     }
    },
    "fb5d8136-7b87-45fc-bcbd-3f1ce53d7123": {
     "id": "fb5d8136-7b87-45fc-bcbd-3f1ce53d7123",
     "prev": "45030a60-5843-4513-9844-3abd7e9c0c04",
     "regions": {
      "e2120b4a-9f89-479d-aa50-17d897294f4e": {
       "attrs": {
        "height": 0.8,
        "width": 0.8,
        "x": 0.1,
        "y": 0.1
       },
       "content": {
        "cell": "7f542bdb-f683-47b7-8b26-89e664a45de6",
        "part": "whole"
       },
       "id": "e2120b4a-9f89-479d-aa50-17d897294f4e"
      }
     }
    },
    "fb81cf83-c00c-41b2-ade2-f0c19dac281e": {
     "id": "fb81cf83-c00c-41b2-ade2-f0c19dac281e",
     "prev": "9d22d999-c8e2-4747-9f9c-798e9711b94d",
     "regions": {
      "7516ef47-c5f3-40dd-a3f7-cdb15bda9dea": {
       "attrs": {
        "height": 0.8,
        "width": 0.8,
        "x": 0.1,
        "y": 0.1
       },
       "content": {
        "cell": "5873ef3f-55fd-49a3-9dd9-eb12bb26db7c",
        "part": "whole"
       },
       "id": "7516ef47-c5f3-40dd-a3f7-cdb15bda9dea"
      }
     }
    },
    "ff5aa1cd-7fc0-443a-ab98-69275fee016a": {
     "id": "ff5aa1cd-7fc0-443a-ab98-69275fee016a",
     "prev": "f7ff7a5a-73ce-495c-a145-e562add29a83",
     "regions": {
      "4efdd142-f88a-4e69-8b06-92da106b3203": {
       "attrs": {
        "height": 0.8,
        "width": 0.8,
        "x": 0.1,
        "y": 0.1
       },
       "content": {
        "cell": "9b3dc3e5-ee00-44d3-b1c5-0842840ce4b7",
        "part": "whole"
       },
       "id": "4efdd142-f88a-4e69-8b06-92da106b3203"
      }
     }
    }
   },
   "themes": {
    "default": "cf4bfc21-5604-42e9-a02a-d63543ac5e56",
    "theme": {
     "cf4bfc21-5604-42e9-a02a-d63543ac5e56": {
      "id": "cf4bfc21-5604-42e9-a02a-d63543ac5e56",
      "palette": {
       "19cc588f-0593-49c9-9f4b-e4d7cc113b1c": {
        "id": "19cc588f-0593-49c9-9f4b-e4d7cc113b1c",
        "rgb": [
         252,
         252,
         252
        ]
       },
       "31af15d2-7e15-44c5-ab5e-e04b16a89eff": {
        "id": "31af15d2-7e15-44c5-ab5e-e04b16a89eff",
        "rgb": [
         68,
         68,
         68
        ]
       },
       "50f92c45-a630-455b-aec3-788680ec7410": {
        "id": "50f92c45-a630-455b-aec3-788680ec7410",
        "rgb": [
         155,
         177,
         192
        ]
       },
       "c5cc3653-2ee1-402a-aba2-7caae1da4f6c": {
        "id": "c5cc3653-2ee1-402a-aba2-7caae1da4f6c",
        "rgb": [
         43,
         126,
         184
        ]
       },
       "efa7f048-9acb-414c-8b04-a26811511a21": {
        "id": "efa7f048-9acb-414c-8b04-a26811511a21",
        "rgb": [
         25.118061674008803,
         73.60176211453744,
         107.4819383259912
        ]
       }
      },
      "rules": {
       "blockquote": {
        "color": "50f92c45-a630-455b-aec3-788680ec7410"
       },
       "code": {
        "font-family": "Anonymous Pro"
       },
       "h1": {
        "color": "c5cc3653-2ee1-402a-aba2-7caae1da4f6c",
        "font-family": "Lato",
        "font-size": 8
       },
       "h2": {
        "color": "c5cc3653-2ee1-402a-aba2-7caae1da4f6c",
        "font-family": "Lato",
        "font-size": 6
       },
       "h3": {
        "color": "50f92c45-a630-455b-aec3-788680ec7410",
        "font-family": "Lato",
        "font-size": 5.5
       },
       "h4": {
        "color": "c5cc3653-2ee1-402a-aba2-7caae1da4f6c",
        "font-family": "Lato",
        "font-size": 5
       },
       "h5": {
        "font-family": "Lato"
       },
       "h6": {
        "font-family": "Lato"
       },
       "h7": {
        "font-family": "Lato"
       },
       "pre": {
        "font-family": "Anonymous Pro",
        "font-size": 4
       }
      },
      "text-base": {
       "font-family": "Merriweather",
       "font-size": 4
      }
     }
    }
   }
  }
 },
 "nbformat": 4,
 "nbformat_minor": 1
}
